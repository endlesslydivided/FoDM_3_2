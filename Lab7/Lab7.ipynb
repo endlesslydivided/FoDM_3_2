{
 "cells": [
  {
   "cell_type": "code",
   "execution_count": 42,
   "id": "64e592e0-d494-47fe-96e2-67f44e1e6d26",
   "metadata": {},
   "outputs": [
    {
     "name": "stdout",
     "output_type": "stream",
     "text": [
      "Частоты признаков:\n",
      "{0: array([0, 1, 0, 2]), 1: array([2, 0, 2, 1])}\n",
      "1 clf.predict:\n",
      "[0 1 0 1]\n",
      "2 clf.predict:\n",
      "[1 2 3 4 5 6]\n",
      "[[ 5 11 12  8  9 11  5 15  0 16]\n",
      " [ 1 12  7 13  6 18 20  5 18 20]\n",
      " [11 10 14 18  4 23 23  9 17 23]\n",
      " [ 0 22 13  9  9  7 22  1  0 17]\n",
      " [ 8 24 13 19 15 10  8  7  3  6]]\n",
      "3 clf.predict:\n",
      "[1]\n",
      "4 clf.predict:\n",
      "[2]\n"
     ]
    }
   ],
   "source": [
    "import mglearn\n",
    "import sklearn\n",
    "import matplotlib.pyplot as plt\n",
    "import numpy as np\n",
    "from sklearn.naive_bayes import BernoulliNB\n",
    "from sklearn.naive_bayes import MultinomialNB\n",
    "from sklearn.naive_bayes import GaussianNB\n",
    "\n",
    "# Классификатор BernoulliNB\n",
    "\n",
    "X = np.array([[0, 1, 0, 1], [1, 0, 1, 1], [0, 0, 0, 1], [1, 0, 1, 0]])\n",
    "y = np.array([0, 1, 0, 1])\n",
    "\n",
    "counts = {}\n",
    "for label in np.unique(y):\n",
    " counts[label] = X[y == label].sum(axis=0)\n",
    "print(\"Частоты признаков:\\n{}\".format(counts))\n",
    "\n",
    "clf = BernoulliNB()\n",
    "clf.fit(X, y)\n",
    "print(\"1 clf.predict:\\n{}\".format(clf.predict(X[0:4])))\n",
    "# Классификатор MultinomialNB\n",
    "\n",
    "rng = np.random.RandomState(1)\n",
    "X = rng.randint(25, size=(6, 10))\n",
    "y = np.array([1, 2, 3, 4, 5, 6])\n",
    "\n",
    "clf = MultinomialNB()\n",
    "clf.fit(X, y)\n",
    "\n",
    "print(\"2 clf.predict:\\n{}\".format(clf.predict(X[0:6])))\n",
    "print(X[0:5])\n",
    "# Классификатор GaussianNB\n",
    "\n",
    "X = np.array([[-1, -1], [-2, -1], [-3, -2], [1, 1], [2, 1], [3, 2]])\n",
    "Y = np.array([1, 1, 1, 2, 2, 2])\n",
    "clf = GaussianNB()\n",
    "clf.fit(X, Y)\n",
    "\n",
    "print(\"3 clf.predict:\\n{}\".format(clf.predict([[1, -1]])))\n",
    "\n",
    "\n",
    "clf_pf = GaussianNB()\n",
    "clf_pf.partial_fit(X, Y, np.unique(Y))\n",
    "\n",
    "print(\"4 clf.predict:\\n{}\".format(clf_pf.predict([[-0.8, 3]])))\n",
    "\n"
   ]
  },
  {
   "cell_type": "code",
   "execution_count": null,
   "id": "ea462210-690a-4641-b36e-6eaf646d8360",
   "metadata": {},
   "outputs": [],
   "source": []
  },
  {
   "cell_type": "code",
   "execution_count": null,
   "id": "454fc11f-7d74-486a-87a1-0af79fa4a922",
   "metadata": {},
   "outputs": [],
   "source": []
  }
 ],
 "metadata": {
  "kernelspec": {
   "display_name": "Python 3 (ipykernel)",
   "language": "python",
   "name": "python3"
  },
  "language_info": {
   "codemirror_mode": {
    "name": "ipython",
    "version": 3
   },
   "file_extension": ".py",
   "mimetype": "text/x-python",
   "name": "python",
   "nbconvert_exporter": "python",
   "pygments_lexer": "ipython3",
   "version": "3.10.2"
  }
 },
 "nbformat": 4,
 "nbformat_minor": 5
}
