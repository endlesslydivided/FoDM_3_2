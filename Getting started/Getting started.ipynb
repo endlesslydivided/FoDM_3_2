{
 "cells": [
  {
   "cell_type": "code",
   "execution_count": null,
   "id": "8ad3cf91-0733-4eec-b853-ebf6c8e93e02",
   "metadata": {
    "collapsed": true,
    "jupyter": {
     "outputs_hidden": true
    },
    "tags": []
   },
   "outputs": [
    {
     "name": "stdout",
     "output_type": "stream",
     "text": [
      "версия Python: 3.10.2 (tags/v3.10.2:a58ebcc, Jan 17 2022, 14:12:15) [MSC v.1929 64 bit (AMD64)]\n",
      "версия pandas: 1.4.0\n",
      "версия matplotlib: 3.5.1\n",
      "версия NumPy: 1.22.2\n",
      "версия SciPy: 1.8.0\n",
      "версия IPython: 8.0.1\n",
      "версия scikit-learn: 1.0.2\n"
     ]
    }
   ],
   "source": [
    "import sys\n",
    "import pandas\n",
    "import matplotlib\n",
    "import numpy\n",
    "import scipy\n",
    "import IPython\n",
    "import sklearn\n",
    "\n",
    "print(\"версия Python: {}\".format(sys.version))\n",
    "print(\"версия pandas: {}\".format(pandas.__version__))\n",
    "print(\"версия matplotlib: {}\".format(matplotlib.__version__))\n",
    "print(\"версия NumPy: {}\".format(numpy.__version__))\n",
    "print(\"версия SciPy: {}\".format(scipy.__version__))\n",
    "print(\"версия IPython: {}\".format(IPython.__version__))\n",
    "print(\"версия scikit-learn: {}\".format(sklearn.__version__))"
   ]
  }
 ],
 "metadata": {
  "kernelspec": {
   "display_name": "Python 3 (ipykernel)",
   "language": "python",
   "name": "python3"
  },
  "language_info": {
   "codemirror_mode": {
    "name": "ipython",
    "version": 3
   },
   "file_extension": ".py",
   "mimetype": "text/x-python",
   "name": "python",
   "nbconvert_exporter": "python",
   "pygments_lexer": "ipython3",
   "version": "3.10.2"
  }
 },
 "nbformat": 4,
 "nbformat_minor": 5
}
